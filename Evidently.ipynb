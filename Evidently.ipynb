{
  "nbformat": 4,
  "nbformat_minor": 0,
  "metadata": {
    "colab": {
      "provenance": [],
      "authorship_tag": "ABX9TyNwdzC0lClvI9zq42vBv3pY",
      "include_colab_link": true
    },
    "kernelspec": {
      "name": "python3",
      "display_name": "Python 3"
    },
    "language_info": {
      "name": "python"
    }
  },
  "cells": [
    {
      "cell_type": "markdown",
      "metadata": {
        "id": "view-in-github",
        "colab_type": "text"
      },
      "source": [
        "<a href=\"https://colab.research.google.com/github/smm-0216/MLOps-tools/blob/main/Evidently.ipynb\" target=\"_parent\"><img src=\"https://colab.research.google.com/assets/colab-badge.svg\" alt=\"Open In Colab\"/></a>"
      ]
    },
    {
      "cell_type": "code",
      "source": [
        "%pip install evidently==0.4.40"
      ],
      "metadata": {
        "colab": {
          "base_uri": "https://localhost:8080/"
        },
        "id": "U38HuF4KMyIS",
        "outputId": "85137378-497a-45a8-fc81-a97e3f432472"
      },
      "execution_count": 1,
      "outputs": [
        {
          "output_type": "stream",
          "name": "stdout",
          "text": [
            "Collecting evidently==0.4.40\n",
            "  Downloading evidently-0.4.40-py3-none-any.whl.metadata (11 kB)\n",
            "Requirement already satisfied: plotly>=5.10.0 in /usr/local/lib/python3.11/dist-packages (from evidently==0.4.40) (5.24.1)\n",
            "Requirement already satisfied: statsmodels>=0.12.2 in /usr/local/lib/python3.11/dist-packages (from evidently==0.4.40) (0.14.4)\n",
            "Requirement already satisfied: scikit-learn>=1.0.1 in /usr/local/lib/python3.11/dist-packages (from evidently==0.4.40) (1.6.1)\n",
            "Requirement already satisfied: pandas>=1.3.5 in /usr/local/lib/python3.11/dist-packages (from pandas[parquet]>=1.3.5->evidently==0.4.40) (2.2.2)\n",
            "Requirement already satisfied: numpy<2.1,>=1.22.0 in /usr/local/lib/python3.11/dist-packages (from evidently==0.4.40) (2.0.2)\n",
            "Requirement already satisfied: nltk>=3.6.7 in /usr/local/lib/python3.11/dist-packages (from evidently==0.4.40) (3.9.1)\n",
            "Requirement already satisfied: scipy>=1.10.0 in /usr/local/lib/python3.11/dist-packages (from evidently==0.4.40) (1.15.3)\n",
            "Requirement already satisfied: requests>=2.32.0 in /usr/local/lib/python3.11/dist-packages (from evidently==0.4.40) (2.32.3)\n",
            "Requirement already satisfied: PyYAML>=5.4 in /usr/local/lib/python3.11/dist-packages (from evidently==0.4.40) (6.0.2)\n",
            "Requirement already satisfied: pydantic>=1.10.13 in /usr/local/lib/python3.11/dist-packages (from evidently==0.4.40) (2.11.7)\n",
            "Collecting litestar>=2.8.3 (from evidently==0.4.40)\n",
            "  Downloading litestar-2.16.0-py3-none-any.whl.metadata (110 kB)\n",
            "\u001b[2K     \u001b[90m━━━━━━━━━━━━━━━━━━━━━━━━━━━━━━━━━━━━━━━\u001b[0m \u001b[32m111.0/111.0 kB\u001b[0m \u001b[31m3.1 MB/s\u001b[0m eta \u001b[36m0:00:00\u001b[0m\n",
            "\u001b[?25hCollecting typing-inspect>=0.9.0 (from evidently==0.4.40)\n",
            "  Downloading typing_inspect-0.9.0-py3-none-any.whl.metadata (1.5 kB)\n",
            "Requirement already satisfied: uvicorn>=0.22.0 in /usr/local/lib/python3.11/dist-packages (from uvicorn[standard]>=0.22.0->evidently==0.4.40) (0.34.3)\n",
            "Collecting watchdog>=3.0.0 (from evidently==0.4.40)\n",
            "  Downloading watchdog-6.0.0-py3-none-manylinux2014_x86_64.whl.metadata (44 kB)\n",
            "\u001b[2K     \u001b[90m━━━━━━━━━━━━━━━━━━━━━━━━━━━━━━━━━━━━━━━━\u001b[0m \u001b[32m44.3/44.3 kB\u001b[0m \u001b[31m1.6 MB/s\u001b[0m eta \u001b[36m0:00:00\u001b[0m\n",
            "\u001b[?25hRequirement already satisfied: typer>=0.3 in /usr/local/lib/python3.11/dist-packages (from evidently==0.4.40) (0.16.0)\n",
            "Requirement already satisfied: rich>=13 in /usr/local/lib/python3.11/dist-packages (from evidently==0.4.40) (13.9.4)\n",
            "Collecting iterative-telemetry>=0.0.5 (from evidently==0.4.40)\n",
            "  Downloading iterative_telemetry-0.0.10-py3-none-any.whl.metadata (4.1 kB)\n",
            "Collecting dynaconf>=3.2.4 (from evidently==0.4.40)\n",
            "  Downloading dynaconf-3.2.11-py2.py3-none-any.whl.metadata (9.2 kB)\n",
            "Requirement already satisfied: certifi>=2024.7.4 in /usr/local/lib/python3.11/dist-packages (from evidently==0.4.40) (2025.6.15)\n",
            "Requirement already satisfied: urllib3>=1.26.19 in /usr/local/lib/python3.11/dist-packages (from evidently==0.4.40) (2.4.0)\n",
            "Requirement already satisfied: fsspec>=2024.6.1 in /usr/local/lib/python3.11/dist-packages (from evidently==0.4.40) (2025.3.2)\n",
            "Collecting ujson>=5.4.0 (from evidently==0.4.40)\n",
            "  Downloading ujson-5.10.0-cp311-cp311-manylinux_2_17_x86_64.manylinux2014_x86_64.whl.metadata (9.3 kB)\n",
            "Collecting deprecation>=2.1.0 (from evidently==0.4.40)\n",
            "  Downloading deprecation-2.1.0-py2.py3-none-any.whl.metadata (4.6 kB)\n",
            "Collecting uuid6>=2024.7.10 (from evidently==0.4.40)\n",
            "  Downloading uuid6-2025.0.0-py3-none-any.whl.metadata (10 kB)\n",
            "Requirement already satisfied: cryptography>=43.0.1 in /usr/local/lib/python3.11/dist-packages (from evidently==0.4.40) (43.0.3)\n",
            "Requirement already satisfied: cffi>=1.12 in /usr/local/lib/python3.11/dist-packages (from cryptography>=43.0.1->evidently==0.4.40) (1.17.1)\n",
            "Requirement already satisfied: packaging in /usr/local/lib/python3.11/dist-packages (from deprecation>=2.1.0->evidently==0.4.40) (24.2)\n",
            "Collecting appdirs (from iterative-telemetry>=0.0.5->evidently==0.4.40)\n",
            "  Downloading appdirs-1.4.4-py2.py3-none-any.whl.metadata (9.0 kB)\n",
            "Requirement already satisfied: filelock in /usr/local/lib/python3.11/dist-packages (from iterative-telemetry>=0.0.5->evidently==0.4.40) (3.18.0)\n",
            "Requirement already satisfied: distro in /usr/local/lib/python3.11/dist-packages (from iterative-telemetry>=0.0.5->evidently==0.4.40) (1.9.0)\n",
            "Requirement already satisfied: anyio>=3 in /usr/local/lib/python3.11/dist-packages (from litestar>=2.8.3->evidently==0.4.40) (4.9.0)\n",
            "Requirement already satisfied: click in /usr/local/lib/python3.11/dist-packages (from litestar>=2.8.3->evidently==0.4.40) (8.2.1)\n",
            "Requirement already satisfied: httpx>=0.22 in /usr/local/lib/python3.11/dist-packages (from litestar>=2.8.3->evidently==0.4.40) (0.28.1)\n",
            "Collecting litestar-htmx>=0.4.0 (from litestar>=2.8.3->evidently==0.4.40)\n",
            "  Downloading litestar_htmx-0.5.0-py3-none-any.whl.metadata (1.9 kB)\n",
            "Collecting msgspec>=0.18.2 (from litestar>=2.8.3->evidently==0.4.40)\n",
            "  Downloading msgspec-0.19.0-cp311-cp311-manylinux_2_17_x86_64.manylinux2014_x86_64.whl.metadata (6.9 kB)\n",
            "Requirement already satisfied: multidict>=6.0.2 in /usr/local/lib/python3.11/dist-packages (from litestar>=2.8.3->evidently==0.4.40) (6.4.4)\n",
            "Collecting multipart>=1.2.0 (from litestar>=2.8.3->evidently==0.4.40)\n",
            "  Downloading multipart-1.2.1-py3-none-any.whl.metadata (4.4 kB)\n",
            "Collecting polyfactory>=2.6.3 (from litestar>=2.8.3->evidently==0.4.40)\n",
            "  Downloading polyfactory-2.21.0-py3-none-any.whl.metadata (27 kB)\n",
            "Collecting rich-click (from litestar>=2.8.3->evidently==0.4.40)\n",
            "  Downloading rich_click-1.8.9-py3-none-any.whl.metadata (7.9 kB)\n",
            "Requirement already satisfied: typing-extensions in /usr/local/lib/python3.11/dist-packages (from litestar>=2.8.3->evidently==0.4.40) (4.14.0)\n",
            "Requirement already satisfied: joblib in /usr/local/lib/python3.11/dist-packages (from nltk>=3.6.7->evidently==0.4.40) (1.5.1)\n",
            "Requirement already satisfied: regex>=2021.8.3 in /usr/local/lib/python3.11/dist-packages (from nltk>=3.6.7->evidently==0.4.40) (2024.11.6)\n",
            "Requirement already satisfied: tqdm in /usr/local/lib/python3.11/dist-packages (from nltk>=3.6.7->evidently==0.4.40) (4.67.1)\n",
            "Requirement already satisfied: python-dateutil>=2.8.2 in /usr/local/lib/python3.11/dist-packages (from pandas>=1.3.5->pandas[parquet]>=1.3.5->evidently==0.4.40) (2.9.0.post0)\n",
            "Requirement already satisfied: pytz>=2020.1 in /usr/local/lib/python3.11/dist-packages (from pandas>=1.3.5->pandas[parquet]>=1.3.5->evidently==0.4.40) (2025.2)\n",
            "Requirement already satisfied: tzdata>=2022.7 in /usr/local/lib/python3.11/dist-packages (from pandas>=1.3.5->pandas[parquet]>=1.3.5->evidently==0.4.40) (2025.2)\n",
            "Requirement already satisfied: pyarrow>=10.0.1 in /usr/local/lib/python3.11/dist-packages (from pandas[parquet]>=1.3.5->evidently==0.4.40) (18.1.0)\n",
            "Requirement already satisfied: tenacity>=6.2.0 in /usr/local/lib/python3.11/dist-packages (from plotly>=5.10.0->evidently==0.4.40) (9.1.2)\n",
            "Requirement already satisfied: annotated-types>=0.6.0 in /usr/local/lib/python3.11/dist-packages (from pydantic>=1.10.13->evidently==0.4.40) (0.7.0)\n",
            "Requirement already satisfied: pydantic-core==2.33.2 in /usr/local/lib/python3.11/dist-packages (from pydantic>=1.10.13->evidently==0.4.40) (2.33.2)\n",
            "Requirement already satisfied: typing-inspection>=0.4.0 in /usr/local/lib/python3.11/dist-packages (from pydantic>=1.10.13->evidently==0.4.40) (0.4.1)\n",
            "Requirement already satisfied: charset-normalizer<4,>=2 in /usr/local/lib/python3.11/dist-packages (from requests>=2.32.0->evidently==0.4.40) (3.4.2)\n",
            "Requirement already satisfied: idna<4,>=2.5 in /usr/local/lib/python3.11/dist-packages (from requests>=2.32.0->evidently==0.4.40) (3.10)\n",
            "Requirement already satisfied: markdown-it-py>=2.2.0 in /usr/local/lib/python3.11/dist-packages (from rich>=13->evidently==0.4.40) (3.0.0)\n",
            "Requirement already satisfied: pygments<3.0.0,>=2.13.0 in /usr/local/lib/python3.11/dist-packages (from rich>=13->evidently==0.4.40) (2.19.1)\n",
            "Requirement already satisfied: threadpoolctl>=3.1.0 in /usr/local/lib/python3.11/dist-packages (from scikit-learn>=1.0.1->evidently==0.4.40) (3.6.0)\n",
            "Requirement already satisfied: patsy>=0.5.6 in /usr/local/lib/python3.11/dist-packages (from statsmodels>=0.12.2->evidently==0.4.40) (1.0.1)\n",
            "Requirement already satisfied: shellingham>=1.3.0 in /usr/local/lib/python3.11/dist-packages (from typer>=0.3->evidently==0.4.40) (1.5.4)\n",
            "Collecting mypy-extensions>=0.3.0 (from typing-inspect>=0.9.0->evidently==0.4.40)\n",
            "  Downloading mypy_extensions-1.1.0-py3-none-any.whl.metadata (1.1 kB)\n",
            "Requirement already satisfied: h11>=0.8 in /usr/local/lib/python3.11/dist-packages (from uvicorn>=0.22.0->uvicorn[standard]>=0.22.0->evidently==0.4.40) (0.16.0)\n",
            "Collecting httptools>=0.6.3 (from uvicorn[standard]>=0.22.0->evidently==0.4.40)\n",
            "  Downloading httptools-0.6.4-cp311-cp311-manylinux_2_5_x86_64.manylinux1_x86_64.manylinux_2_17_x86_64.manylinux2014_x86_64.whl.metadata (3.6 kB)\n",
            "Collecting python-dotenv>=0.13 (from uvicorn[standard]>=0.22.0->evidently==0.4.40)\n",
            "  Downloading python_dotenv-1.1.0-py3-none-any.whl.metadata (24 kB)\n",
            "Collecting uvloop>=0.15.1 (from uvicorn[standard]>=0.22.0->evidently==0.4.40)\n",
            "  Downloading uvloop-0.21.0-cp311-cp311-manylinux_2_17_x86_64.manylinux2014_x86_64.whl.metadata (4.9 kB)\n",
            "Collecting watchfiles>=0.13 (from uvicorn[standard]>=0.22.0->evidently==0.4.40)\n",
            "  Downloading watchfiles-1.1.0-cp311-cp311-manylinux_2_17_x86_64.manylinux2014_x86_64.whl.metadata (4.9 kB)\n",
            "Requirement already satisfied: websockets>=10.4 in /usr/local/lib/python3.11/dist-packages (from uvicorn[standard]>=0.22.0->evidently==0.4.40) (15.0.1)\n",
            "Requirement already satisfied: sniffio>=1.1 in /usr/local/lib/python3.11/dist-packages (from anyio>=3->litestar>=2.8.3->evidently==0.4.40) (1.3.1)\n",
            "Requirement already satisfied: pycparser in /usr/local/lib/python3.11/dist-packages (from cffi>=1.12->cryptography>=43.0.1->evidently==0.4.40) (2.22)\n",
            "Requirement already satisfied: httpcore==1.* in /usr/local/lib/python3.11/dist-packages (from httpx>=0.22->litestar>=2.8.3->evidently==0.4.40) (1.0.9)\n",
            "Requirement already satisfied: mdurl~=0.1 in /usr/local/lib/python3.11/dist-packages (from markdown-it-py>=2.2.0->rich>=13->evidently==0.4.40) (0.1.2)\n",
            "Collecting faker>=5.0.0 (from polyfactory>=2.6.3->litestar>=2.8.3->evidently==0.4.40)\n",
            "  Downloading faker-37.4.0-py3-none-any.whl.metadata (15 kB)\n",
            "Requirement already satisfied: six>=1.5 in /usr/local/lib/python3.11/dist-packages (from python-dateutil>=2.8.2->pandas>=1.3.5->pandas[parquet]>=1.3.5->evidently==0.4.40) (1.17.0)\n",
            "Downloading evidently-0.4.40-py3-none-any.whl (3.5 MB)\n",
            "\u001b[2K   \u001b[90m━━━━━━━━━━━━━━━━━━━━━━━━━━━━━━━━━━━━━━━━\u001b[0m \u001b[32m3.5/3.5 MB\u001b[0m \u001b[31m54.9 MB/s\u001b[0m eta \u001b[36m0:00:00\u001b[0m\n",
            "\u001b[?25hDownloading deprecation-2.1.0-py2.py3-none-any.whl (11 kB)\n",
            "Downloading dynaconf-3.2.11-py2.py3-none-any.whl (236 kB)\n",
            "\u001b[2K   \u001b[90m━━━━━━━━━━━━━━━━━━━━━━━━━━━━━━━━━━━━━━━━\u001b[0m \u001b[32m236.5/236.5 kB\u001b[0m \u001b[31m15.7 MB/s\u001b[0m eta \u001b[36m0:00:00\u001b[0m\n",
            "\u001b[?25hDownloading iterative_telemetry-0.0.10-py3-none-any.whl (10 kB)\n",
            "Downloading litestar-2.16.0-py3-none-any.whl (573 kB)\n",
            "\u001b[2K   \u001b[90m━━━━━━━━━━━━━━━━━━━━━━━━━━━━━━━━━━━━━━━━\u001b[0m \u001b[32m573.2/573.2 kB\u001b[0m \u001b[31m35.3 MB/s\u001b[0m eta \u001b[36m0:00:00\u001b[0m\n",
            "\u001b[?25hDownloading typing_inspect-0.9.0-py3-none-any.whl (8.8 kB)\n",
            "Downloading ujson-5.10.0-cp311-cp311-manylinux_2_17_x86_64.manylinux2014_x86_64.whl (53 kB)\n",
            "\u001b[2K   \u001b[90m━━━━━━━━━━━━━━━━━━━━━━━━━━━━━━━━━━━━━━━━\u001b[0m \u001b[32m53.6/53.6 kB\u001b[0m \u001b[31m4.5 MB/s\u001b[0m eta \u001b[36m0:00:00\u001b[0m\n",
            "\u001b[?25hDownloading uuid6-2025.0.0-py3-none-any.whl (7.0 kB)\n",
            "Downloading watchdog-6.0.0-py3-none-manylinux2014_x86_64.whl (79 kB)\n",
            "\u001b[2K   \u001b[90m━━━━━━━━━━━━━━━━━━━━━━━━━━━━━━━━━━━━━━━━\u001b[0m \u001b[32m79.1/79.1 kB\u001b[0m \u001b[31m6.2 MB/s\u001b[0m eta \u001b[36m0:00:00\u001b[0m\n",
            "\u001b[?25hDownloading httptools-0.6.4-cp311-cp311-manylinux_2_5_x86_64.manylinux1_x86_64.manylinux_2_17_x86_64.manylinux2014_x86_64.whl (459 kB)\n",
            "\u001b[2K   \u001b[90m━━━━━━━━━━━━━━━━━━━━━━━━━━━━━━━━━━━━━━━━\u001b[0m \u001b[32m459.8/459.8 kB\u001b[0m \u001b[31m27.2 MB/s\u001b[0m eta \u001b[36m0:00:00\u001b[0m\n",
            "\u001b[?25hDownloading litestar_htmx-0.5.0-py3-none-any.whl (10.0 kB)\n",
            "Downloading msgspec-0.19.0-cp311-cp311-manylinux_2_17_x86_64.manylinux2014_x86_64.whl (210 kB)\n",
            "\u001b[2K   \u001b[90m━━━━━━━━━━━━━━━━━━━━━━━━━━━━━━━━━━━━━━━━\u001b[0m \u001b[32m210.7/210.7 kB\u001b[0m \u001b[31m16.0 MB/s\u001b[0m eta \u001b[36m0:00:00\u001b[0m\n",
            "\u001b[?25hDownloading multipart-1.2.1-py3-none-any.whl (13 kB)\n",
            "Downloading mypy_extensions-1.1.0-py3-none-any.whl (5.0 kB)\n",
            "Downloading polyfactory-2.21.0-py3-none-any.whl (60 kB)\n",
            "\u001b[2K   \u001b[90m━━━━━━━━━━━━━━━━━━━━━━━━━━━━━━━━━━━━━━━━\u001b[0m \u001b[32m60.9/60.9 kB\u001b[0m \u001b[31m4.8 MB/s\u001b[0m eta \u001b[36m0:00:00\u001b[0m\n",
            "\u001b[?25hDownloading python_dotenv-1.1.0-py3-none-any.whl (20 kB)\n",
            "Downloading uvloop-0.21.0-cp311-cp311-manylinux_2_17_x86_64.manylinux2014_x86_64.whl (4.0 MB)\n",
            "\u001b[2K   \u001b[90m━━━━━━━━━━━━━━━━━━━━━━━━━━━━━━━━━━━━━━━━\u001b[0m \u001b[32m4.0/4.0 MB\u001b[0m \u001b[31m68.8 MB/s\u001b[0m eta \u001b[36m0:00:00\u001b[0m\n",
            "\u001b[?25hDownloading watchfiles-1.1.0-cp311-cp311-manylinux_2_17_x86_64.manylinux2014_x86_64.whl (453 kB)\n",
            "\u001b[2K   \u001b[90m━━━━━━━━━━━━━━━━━━━━━━━━━━━━━━━━━━━━━━━━\u001b[0m \u001b[32m453.1/453.1 kB\u001b[0m \u001b[31m13.7 MB/s\u001b[0m eta \u001b[36m0:00:00\u001b[0m\n",
            "\u001b[?25hDownloading appdirs-1.4.4-py2.py3-none-any.whl (9.6 kB)\n",
            "Downloading rich_click-1.8.9-py3-none-any.whl (36 kB)\n",
            "Downloading faker-37.4.0-py3-none-any.whl (1.9 MB)\n",
            "\u001b[2K   \u001b[90m━━━━━━━━━━━━━━━━━━━━━━━━━━━━━━━━━━━━━━━━\u001b[0m \u001b[32m1.9/1.9 MB\u001b[0m \u001b[31m59.3 MB/s\u001b[0m eta \u001b[36m0:00:00\u001b[0m\n",
            "\u001b[?25hInstalling collected packages: appdirs, watchdog, uvloop, uuid6, ujson, python-dotenv, mypy-extensions, multipart, msgspec, litestar-htmx, httptools, faker, dynaconf, deprecation, watchfiles, typing-inspect, polyfactory, iterative-telemetry, rich-click, litestar, evidently\n",
            "Successfully installed appdirs-1.4.4 deprecation-2.1.0 dynaconf-3.2.11 evidently-0.4.40 faker-37.4.0 httptools-0.6.4 iterative-telemetry-0.0.10 litestar-2.16.0 litestar-htmx-0.5.0 msgspec-0.19.0 multipart-1.2.1 mypy-extensions-1.1.0 polyfactory-2.21.0 python-dotenv-1.1.0 rich-click-1.8.9 typing-inspect-0.9.0 ujson-5.10.0 uuid6-2025.0.0 uvloop-0.21.0 watchdog-6.0.0 watchfiles-1.1.0\n"
          ]
        }
      ]
    },
    {
      "cell_type": "code",
      "source": [
        "import numpy as np\n",
        "import pandas as pd\n",
        "from evidently.report import Report\n",
        "from evidently.metrics import DataDriftTable, ColumnDriftMetric, DatasetDriftMetric, DatasetMissingValuesMetric, ColumnSummaryMetric"
      ],
      "metadata": {
        "id": "gpmNgD5UNAZi"
      },
      "execution_count": 2,
      "outputs": []
    },
    {
      "cell_type": "code",
      "source": [
        "# Datos históricos (de entrenamiento o validación)\n",
        "reference_data = pd.DataFrame({\n",
        "    'feature_1': np.random.normal(0, 1, 1000),\n",
        "    'feature_2': np.random.uniform(0, 1, 1000),\n",
        "    'prediction': np.random.choice([0, 1], size=1000)\n",
        "})\n",
        "\n",
        "# Datos actuales (en producción)\n",
        "current_data = pd.DataFrame({\n",
        "    'feature_1': np.random.normal(1.5, 1, 100),  # Cambio en la media\n",
        "    'feature_2': np.random.uniform(0, 1, 100),\n",
        "    'prediction': np.random.choice([0, 1], size=100, p=[0.8,0.2]) # Cambio en la probabilidad\n",
        "})"
      ],
      "metadata": {
        "id": "PVcS6ebDNBXL"
      },
      "execution_count": 3,
      "outputs": []
    },
    {
      "cell_type": "code",
      "execution_count": 4,
      "metadata": {
        "id": "3GCnqrQ4Mtnx"
      },
      "outputs": [],
      "source": [
        "data_drift_report = Report(metrics=[\n",
        "    DatasetDriftMetric(),\n",
        "    DataDriftTable(),\n",
        "    ColumnDriftMetric(column_name='prediction'),\n",
        "    ColumnDriftMetric(column_name='feature_1'),\n",
        "    ColumnDriftMetric(column_name='feature_2'),\n",
        "    DatasetMissingValuesMetric(),\n",
        "    ColumnSummaryMetric(column_name='prediction'),\n",
        "    ColumnSummaryMetric(column_name='feature_1'),\n",
        "    ColumnSummaryMetric(column_name='feature_2')\n",
        "])\n",
        "\n",
        "data_drift_report.run(reference_data=reference_data, current_data=current_data)\n",
        "\n",
        "data_drift_report.save_html('data_drift_report.html')"
      ]
    },
    {
      "cell_type": "code",
      "source": [],
      "metadata": {
        "id": "XB8wWtCpM8bd"
      },
      "execution_count": 4,
      "outputs": []
    }
  ]
}